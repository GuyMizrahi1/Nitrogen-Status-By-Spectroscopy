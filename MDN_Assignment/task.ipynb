{
 "cells": [
  {
   "cell_type": "markdown",
   "metadata": {},
   "source": [
    "# Home Assignment"
   ]
  },
  {
   "cell_type": "markdown",
   "metadata": {},
   "source": [
    "Names: Lidor Erez, Dvir Rehavi, Guy Mizrahi"
   ]
  },
  {
   "cell_type": "markdown",
   "metadata": {},
   "source": [
    "## First Task\n",
    "\n",
    "Show that the maximum likelihood estimates for a univariate Normal distribution with unknown mean and variance are given by:\n",
    "\n",
    "$$\\hat{\\mu} = \\frac{1}{n} \\sum_{i=1}^{n} x_i$$\n",
    "\n",
    "$$\\hat{\\sigma}^2 = \\frac{1}{n} \\sum_{i=1}^{n} (x_i - \\hat{\\mu})(x_i - \\hat{\\mu})^T$$\n"
   ]
  },
  {
   "cell_type": "markdown",
   "metadata": {},
   "source": [
    "### Solution\n",
    "\n",
    "The likelihood function for a univariate normal distribution is given by:\n",
    "\n",
    "$$\n",
    "L(\\mu,\\sigma^2) = \\prod_{i=1}^{n} \\frac{1}{\\sqrt{2\\pi\\sigma^2}} e^{-\\frac{(x_i - \\mu)^2}{2\\sigma^2}}\n",
    "$$\n",
    "\n",
    "\n",
    "Simplifying the above expression, we get:\n",
    "\n",
    "$$\n",
    "\n",
    "L(\\mu,\\sigma^2) = \\frac{1}{(2\\pi\\sigma^2)^{n/2}} e^{-\\frac{1}{2\\sigma^2} \\sum_{i=1}^{n} (x_i - \\mu)^2}\n",
    "\n",
    "$$\n",
    "\n",
    "Taking the log of the likelihood function, we get:\n",
    "\n",
    "$$\n",
    "\n",
    "\\log L(\\mu,\\sigma^2) = -\\frac{n}{2} \\log(2\\pi) - \\frac{n}{2} \\log(\\sigma^2) - \\frac{1}{2\\sigma^2} \\sum_{i=1}^{n} (x_i - \\mu)^2\n",
    "\n",
    "$$\n",
    "\n",
    "Taking the derivative of the log likelihood function with respect to $\\mu$ and $\\sigma^2$, we get:\n",
    "\n",
    "$$\n",
    "\n",
    "\\frac{\\partial \\log L(\\mu,\\sigma^2)}{\\partial \\mu} = \\frac{1}{\\sigma^2} \\sum_{i=1}^{n} (x_i - \\mu) = 0\n",
    "\n",
    "$$\n",
    "\n",
    "\n",
    "$$\n",
    "\n",
    "\\frac{\\partial \\log L(\\mu,\\sigma^2)}{\\partial \\sigma^2} = -\\frac{n}{2\\sigma^2} + \\frac{1}{2\\sigma^4} \\sum_{i=1}^{n} (x_i - \\mu)^2 = 0\n",
    "\n",
    "$$\n",
    "\n",
    "\n"
   ]
  },
  {
   "cell_type": "markdown",
   "metadata": {},
   "source": [
    "### Finding $\\hat{\\mu}$\n",
    "\n",
    "$\\frac{1}{\\sigma^2} \\sum_{i=1}^{n} (x_i - \\mu) = 0$\n",
    "\n",
    "$\\sum_{i=1}^{n} (x_i - \\mu) = 0$\n",
    "\n",
    "$\\sum_{i=1}^{n} x_i - n\\mu = 0$\n",
    "\n",
    "$\\sum_{i=1}^{n} x_i = n\\mu$\n",
    "\n",
    "$\\hat{\\mu} = \\frac{1}{n} \\sum_{i=1}^{n} x_i$"
   ]
  },
  {
   "cell_type": "markdown",
   "metadata": {},
   "source": [
    "### Finding $\\hat{\\sigma}^2$\n",
    "\n",
    "$-\\frac{n}{2\\sigma^2} + \\frac{1}{2\\sigma^4} \\sum_{i=1}^{n} (x_i - \\mu)^2 = 0$\n",
    "\n",
    "$\\frac{1}{2\\sigma^4} \\sum_{i=1}^{n} (x_i - \\mu)^2 = \\frac{n}{2\\sigma^2}$\n",
    "\n",
    "$\\sum_{i=1}^{n} (x_i - \\mu)^2 = n\\sigma^2$\n",
    "\n",
    "$\\sum_{i=1}^{n} (x_i - \\hat{\\mu})^2 = n\\hat{\\sigma}^2$\n",
    "\n",
    "$\\hat{\\sigma}^2 = \\frac{1}{n} \\sum_{i=1}^{n} (x_i - \\hat{\\mu})^2$"
   ]
  },
  {
   "cell_type": "markdown",
   "metadata": {},
   "source": [
    "Thus the maximum likelihood estimates for a univariate Normal distribution with unknown mean and variance are given by:\n",
    "\n",
    "$$\\hat{\\mu} = \\frac{1}{n} \\sum_{i=1}^{n} x_i$$\n",
    "\n",
    "$$\\hat{\\sigma}^2 = \\frac{1}{n} \\sum_{i=1}^{n} (x_i - \\hat{\\mu})^2$$"
   ]
  },
  {
   "cell_type": "markdown",
   "metadata": {},
   "source": [
    "## Second Task"
   ]
  },
  {
   "cell_type": "code",
   "execution_count": 1,
   "metadata": {},
   "outputs": [],
   "source": [
    "import numpy as np\n",
    "import matplotlib.pyplot as plt\n",
    "from sklearn.manifold import TSNE\n",
    "from sklearn.preprocessing import StandardScaler\n",
    "from NN import NN, NeuralNetworkCV,trainNN\n",
    "from RF_TASK import RF, RandomForestCV\n",
    "import torch"
   ]
  },
  {
   "cell_type": "code",
   "execution_count": 2,
   "metadata": {},
   "outputs": [],
   "source": [
    "# Loading Data\n",
    "M1 = np.loadtxt(\"./data/M1.csv\",delimiter=',')\n",
    "M2 = np.loadtxt(\"./data/M2.csv\",delimiter=',')\n",
    "S1 = np.loadtxt('./data/Sigma1.csv',delimiter=',')\n",
    "S2 = np.loadtxt('./data/Sigma2.csv',delimiter=',')\n",
    "\n",
    "# A priori probabilities\n",
    "P1 = 0.35\n",
    "P2 = 0.65"
   ]
  },
  {
   "cell_type": "markdown",
   "metadata": {},
   "source": [
    "### ** Task 2.1 ** \n",
    "\n",
    "Generate 10,000 observations from the two distributions, proportionate to the a priori probabilities, which will be the training set."
   ]
  },
  {
   "cell_type": "code",
   "execution_count": 3,
   "metadata": {},
   "outputs": [],
   "source": [
    "\n",
    "# sample size for training set\n",
    "n = 10000\n",
    "sample_size_1 = int(n*P1)\n",
    "sample_size_2 = int(n*P2)\n",
    "\n",
    "# Create Distribution\n",
    "np.random.seed(11)\n",
    "dist1 = np.random.multivariate_normal(M1,S1, sample_size_1)\n",
    "dist2 = np.random.multivariate_normal(M2,S2,sample_size_2)\n",
    "y1 = np.ones(sample_size_1)\n",
    "y2 = np.zeros(sample_size_2)\n",
    "\n",
    "# stack distributions:\n",
    "data = np.vstack([dist1,dist2])\n",
    "labels = np.hstack([y1,y2])"
   ]
  },
  {
   "cell_type": "markdown",
   "metadata": {},
   "source": [
    "### ** Task 2.2 ** \n",
    "\n",
    "Compute the MLE estimators for each of the class conditional parameters and compare them to the true values."
   ]
  },
  {
   "cell_type": "code",
   "execution_count": 4,
   "metadata": {},
   "outputs": [],
   "source": [
    "mu_hat_dist1 = np.mean(dist1,axis=0)\n",
    "sigma_hat_dist1 = np.cov(dist1,rowvar=False)\n",
    "mu_hat_dist2 = np.mean(dist2,axis=0)\n",
    "sigma_hat_dist2 = np.cov(dist2,rowvar=False)"
   ]
  },
  {
   "cell_type": "code",
   "execution_count": 5,
   "metadata": {},
   "outputs": [
    {
     "data": {
      "text/plain": [
       "array([ 0.06878839, -0.0142574 ,  0.00821525, -0.02172319,  0.0076861 ,\n",
       "        0.02009271])"
      ]
     },
     "execution_count": 5,
     "metadata": {},
     "output_type": "execute_result"
    }
   ],
   "source": [
    "mu_hat_dist1 - M1"
   ]
  },
  {
   "cell_type": "code",
   "execution_count": 6,
   "metadata": {},
   "outputs": [
    {
     "data": {
      "text/plain": [
       "array([[ 1.16832631e-01, -8.24101661e-02, -8.67918214e-02,\n",
       "        -2.30607378e-05, -1.87985650e-02, -8.74381129e-02],\n",
       "       [-8.24101661e-02,  1.98174675e-02,  1.64271422e-02,\n",
       "         3.60861825e-02, -2.89064480e-03,  2.09763943e-02],\n",
       "       [-8.67918214e-02,  1.64271422e-02,  8.63138130e-02,\n",
       "         2.81426491e-02, -5.36883998e-02,  2.49536534e-02],\n",
       "       [-2.30607378e-05,  3.60861825e-02,  2.81426491e-02,\n",
       "        -9.89766242e-02,  1.52810215e-02, -6.43296831e-03],\n",
       "       [-1.87985650e-02, -2.89064480e-03, -5.36883998e-02,\n",
       "         1.52810215e-02,  8.80818967e-03, -4.37838488e-02],\n",
       "       [-8.74381129e-02,  2.09763943e-02,  2.49536534e-02,\n",
       "        -6.43296831e-03, -4.37838488e-02, -6.24944047e-02]])"
      ]
     },
     "execution_count": 6,
     "metadata": {},
     "output_type": "execute_result"
    }
   ],
   "source": [
    "sigma_hat_dist1 - S1"
   ]
  },
  {
   "cell_type": "code",
   "execution_count": 7,
   "metadata": {},
   "outputs": [
    {
     "data": {
      "text/plain": [
       "array([-0.00213606, -0.00536005,  0.03974838, -0.00373534,  0.04643738,\n",
       "       -0.0245269 ])"
      ]
     },
     "execution_count": 7,
     "metadata": {},
     "output_type": "execute_result"
    }
   ],
   "source": [
    "mu_hat_dist2 - M2"
   ]
  },
  {
   "cell_type": "code",
   "execution_count": 8,
   "metadata": {},
   "outputs": [
    {
     "data": {
      "text/plain": [
       "array([[ 0.01111553,  0.0222173 ,  0.02412015, -0.04550668, -0.06558669,\n",
       "        -0.06236667],\n",
       "       [ 0.0222173 , -0.02742164, -0.00346997,  0.03713569,  0.05796159,\n",
       "         0.00110358],\n",
       "       [ 0.02412015, -0.00346997, -0.05057879, -0.02810151, -0.01386905,\n",
       "         0.05265772],\n",
       "       [-0.04550668,  0.03713569, -0.02810151,  0.00299614, -0.07794885,\n",
       "         0.05495672],\n",
       "       [-0.06558669,  0.05796159, -0.01386905, -0.07794885, -0.01548133,\n",
       "         0.07608907],\n",
       "       [-0.06236667,  0.00110358,  0.05265772,  0.05495672,  0.07608907,\n",
       "         0.00018072]])"
      ]
     },
     "execution_count": 8,
     "metadata": {},
     "output_type": "execute_result"
    }
   ],
   "source": [
    "sigma_hat_dist2 - S2"
   ]
  },
  {
   "cell_type": "markdown",
   "metadata": {},
   "source": [
    "### ** Task 2.3 **\n",
    "\n",
    "Generate another set, with 2,000 observations (this will serve as validation set)."
   ]
  },
  {
   "cell_type": "code",
   "execution_count": 9,
   "metadata": {},
   "outputs": [],
   "source": [
    "# Sample Size\n",
    "n_val = 2000\n",
    "sample_size1_val = int(n_val*P1)\n",
    "sample_size2_val = int(n_val*P2)\n",
    "\n",
    "# Create distributions\n",
    "\n",
    "np.random.seed(11)\n",
    "dist1_val = np.random.multivariate_normal(M1,S1, sample_size1_val)\n",
    "dist2_val = np.random.multivariate_normal(M2,S2,sample_size2_val)\n",
    "y1_val = np.ones(sample_size1_val)\n",
    "y2_val = np.zeros(sample_size2_val)\n",
    "\n",
    "# stack distributions for validation\n",
    "data_val = np.vstack([dist1_val,dist2_val])\n",
    "labels_val = np.hstack([y1_val,y2_val])"
   ]
  },
  {
   "cell_type": "markdown",
   "metadata": {},
   "source": [
    "### ** Task 2.4 **\n",
    "\n",
    "Fit a random forest to the data. Use the validation set to compare a number of forest configurations and choose the best performing one. Then use CV-10 over the training set to estimate the model accuracy and generalization error. (You may not use existing functions for the cross-validation for optimization and estimation part but write your own)."
   ]
  },
  {
   "cell_type": "code",
   "execution_count": 10,
   "metadata": {},
   "outputs": [],
   "source": [
    "from itertools import product\n",
    "from tqdm import tqdm"
   ]
  },
  {
   "cell_type": "markdown",
   "metadata": {},
   "source": [
    "#### Chossing the best performing configuration:"
   ]
  },
  {
   "cell_type": "code",
   "execution_count": 11,
   "metadata": {},
   "outputs": [],
   "source": [
    "dct = {\n",
    "    'n_estimator':[300,500],\n",
    "    'max_depth':[5,7],\n",
    "    'min_samples_leaf':[2,4],\n",
    "    'min_samples_split':[2,5,10]\n",
    "}"
   ]
  },
  {
   "cell_type": "code",
   "execution_count": 12,
   "metadata": {},
   "outputs": [
    {
     "data": {
      "text/plain": [
       "{'combination_0': (300, 5, 2, 2),\n",
       " 'combination_1': (300, 5, 2, 5),\n",
       " 'combination_2': (300, 5, 2, 10),\n",
       " 'combination_3': (300, 5, 4, 2),\n",
       " 'combination_4': (300, 5, 4, 5),\n",
       " 'combination_5': (300, 5, 4, 10),\n",
       " 'combination_6': (300, 7, 2, 2),\n",
       " 'combination_7': (300, 7, 2, 5),\n",
       " 'combination_8': (300, 7, 2, 10),\n",
       " 'combination_9': (300, 7, 4, 2),\n",
       " 'combination_10': (300, 7, 4, 5),\n",
       " 'combination_11': (300, 7, 4, 10),\n",
       " 'combination_12': (500, 5, 2, 2),\n",
       " 'combination_13': (500, 5, 2, 5),\n",
       " 'combination_14': (500, 5, 2, 10),\n",
       " 'combination_15': (500, 5, 4, 2),\n",
       " 'combination_16': (500, 5, 4, 5),\n",
       " 'combination_17': (500, 5, 4, 10),\n",
       " 'combination_18': (500, 7, 2, 2),\n",
       " 'combination_19': (500, 7, 2, 5),\n",
       " 'combination_20': (500, 7, 2, 10),\n",
       " 'combination_21': (500, 7, 4, 2),\n",
       " 'combination_22': (500, 7, 4, 5),\n",
       " 'combination_23': (500, 7, 4, 10)}"
      ]
     },
     "execution_count": 12,
     "metadata": {},
     "output_type": "execute_result"
    }
   ],
   "source": [
    "# This function creates combinations from the feature space dictionary.\n",
    "def parameterSub(paramter_space):\n",
    "    values = paramter_space.values()\n",
    "    feature_combs = {}\n",
    "    combinations = list(product(*values))\n",
    "\n",
    "    for i,comb in enumerate(combinations):\n",
    "        feature_combs[f'combination_{i}'] = comb\n",
    "    \n",
    "    return feature_combs\n",
    "\n",
    "param_space = parameterSub(dct)\n",
    "param_space"
   ]
  },
  {
   "cell_type": "code",
   "execution_count": 13,
   "metadata": {},
   "outputs": [
    {
     "name": "stderr",
     "output_type": "stream",
     "text": [
      "100%|██████████| 24/24 [01:16<00:00,  3.19s/it]\n"
     ]
    }
   ],
   "source": [
    "res = {}\n",
    "for key,val in tqdm(param_space.items()):\n",
    "    rf = RF(*val)\n",
    "    rf.train(data,labels)\n",
    "    rf.predict(data_val)\n",
    "    f1_score,_ = rf.computeMetrics(labels_val)\n",
    "    res[key] = (f1_score,rf.params)"
   ]
  },
  {
   "cell_type": "code",
   "execution_count": 14,
   "metadata": {},
   "outputs": [
    {
     "data": {
      "text/plain": [
       "('combination_8',\n",
       " (0.8211189913317573,\n",
       "  {'n_estimators': 300,\n",
       "   'max_depth': 7,\n",
       "   'min_samples_leaf': 2,\n",
       "   'min_samples_split': 10}))"
      ]
     },
     "execution_count": 14,
     "metadata": {},
     "output_type": "execute_result"
    }
   ],
   "source": [
    "items = list(res.items())\n",
    "by_f1 = sorted(items, key=lambda item: item[1][0], reverse=True)[0]\n",
    "by_f1"
   ]
  },
  {
   "cell_type": "markdown",
   "metadata": {},
   "source": [
    "#### Estimating the model accuracy and generalization error using CV-10:"
   ]
  },
  {
   "cell_type": "code",
   "execution_count": 15,
   "metadata": {},
   "outputs": [
    {
     "data": {
      "text/plain": [
       "(0.6606637806637806, 0.13414414414414416)"
      ]
     },
     "execution_count": 15,
     "metadata": {},
     "output_type": "execute_result"
    }
   ],
   "source": [
    "best_params = by_f1[1][1] # get best parameters\n",
    "best_rf = RF(*best_params.values()) # deploy a new RF with the best parameters\n",
    "\n",
    "# Train using CV\n",
    "rf_cv = RandomForestCV(best_rf,10,data,labels)\n",
    "rf_cv.runCV()"
   ]
  },
  {
   "cell_type": "code",
   "execution_count": 16,
   "metadata": {},
   "outputs": [
    {
     "name": "stdout",
     "output_type": "stream",
     "text": [
      "Random Forest F1 66.066%\n",
      "Random Forest Generalization Error 13.414%\n"
     ]
    }
   ],
   "source": [
    "print(f'Random Forest F1 {np.round(rf_cv.avgRFF1*100,3)}%\\nRandom Forest Generalization Error {np.round(rf_cv.avgRFoobErr*100,3)}%')"
   ]
  },
  {
   "cell_type": "markdown",
   "metadata": {},
   "source": [
    "### ** Task 2.5 **\n",
    "\n",
    "Fit a neural network to the data. Use the validation set to determine the number of neurons to use for the network. After choosing the number of neurons, use CV-10 over the training set to estimate the classification accuracy"
   ]
  },
  {
   "cell_type": "markdown",
   "metadata": {},
   "source": [
    "#### Choosing the number of neurons:"
   ]
  },
  {
   "cell_type": "code",
   "execution_count": 17,
   "metadata": {},
   "outputs": [],
   "source": [
    "input_size = data.shape[1]\n",
    "output_size = 1\n",
    "hidden_sizes = [2**i for i in range(4,10)]\n",
    "result = {}\n",
    "\n",
    "data_cp = data.copy()\n",
    "labels_cp = labels.copy()\n",
    "\n",
    "val_data_cp = data_val.copy()\n",
    "val_labels_cp = labels_val.copy()\n",
    "\n",
    "scaler = StandardScaler()\n",
    "\n",
    "data_cp = scaler.fit_transform(data_cp)\n",
    "val_data_cp = scaler.fit_transform(val_data_cp)\n",
    "\n",
    "data_tens = torch.from_numpy(data_cp).to(torch.float32)\n",
    "labels_tens = torch.from_numpy(labels_cp).to(torch.float32).unsqueeze(1)\n",
    "\n",
    "val_data_tens = torch.from_numpy(val_data_cp).to(torch.float32)\n",
    "val_labels_tens = torch.from_numpy(val_labels_cp).to(torch.float32).unsqueeze(1)\n",
    "\n",
    "labels_size = labels.shape[0]\n",
    "\n",
    "# Handle imbalance of data using weights in loss function\n",
    "num_zeros = torch.sum(labels_tens == 0).item()\n",
    "num_ones = torch.sum(labels_tens == 1).item()\n",
    "\n",
    "pos_weight = num_zeros/num_ones\n",
    "\n",
    "criterion = torch.nn.BCEWithLogitsLoss(pos_weight=torch.tensor([pos_weight]))\n",
    "\n",
    "for hidden_size in hidden_sizes:\n",
    "    net = NN(input_size,hidden_size,output_size)\n",
    "    optimizer = torch.optim.Adam(net.parameters(),lr=1e-1)\n",
    "\n",
    "    _,val_loss = trainNN(net,\n",
    "                                  data_tens,\n",
    "                                  labels_tens,\n",
    "                                  optimizer,\n",
    "                                  criterion,\n",
    "                                  1000,\n",
    "                                  200,\n",
    "                                   val_data_tens,\n",
    "                                   val_labels_tens,\n",
    "                                   validate=True)\n",
    "    \n",
    "    result[hidden_size] = (val_loss)"
   ]
  },
  {
   "cell_type": "code",
   "execution_count": 18,
   "metadata": {},
   "outputs": [
    {
     "name": "stdout",
     "output_type": "stream",
     "text": [
      "16 neurons in the hidden layer result in 0.348433119058609 loss value.\n"
     ]
    }
   ],
   "source": [
    "result_items = list(result.items())\n",
    "\n",
    "by_loss = sorted(result_items,key=lambda item: item[0])[0]\n",
    "\n",
    "print(f'{by_loss[0]} neurons in the hidden layer result in {by_loss[1]} loss value.')"
   ]
  },
  {
   "cell_type": "markdown",
   "metadata": {},
   "source": [
    "#### Estimating the classification accuracy using CV-10:"
   ]
  },
  {
   "cell_type": "code",
   "execution_count": 19,
   "metadata": {},
   "outputs": [
    {
     "data": {
      "text/plain": [
       "(0.8797619047619047, 0.25794767066836355)"
      ]
     },
     "execution_count": 19,
     "metadata": {},
     "output_type": "execute_result"
    }
   ],
   "source": [
    "best_net  = NN(input_size,by_loss[0],output_size)\n",
    "nn_cv = NeuralNetworkCV(data_tens,labels_tens,10,best_net)\n",
    "\n",
    "criterion = torch.nn.BCEWithLogitsLoss(pos_weight=torch.tensor([pos_weight]))\n",
    "optimizer = torch.optim.Adam(best_net.parameters(),lr=1e-1)\n",
    "nn_cv.runCV(optimizer, criterion)"
   ]
  },
  {
   "cell_type": "markdown",
   "metadata": {},
   "source": [
    "### ** Task 2.6 **\n",
    "\n",
    "Choose one of the two models above. We will now consider the overfitting\n",
    "phenomenon as a function of training set size. Fit the model with training sets of size $𝑁 = 10, 20, 30, … ,1,000.$ Plot the test and training error as a function of 𝑁. *For estimating test error, use the validation set."
   ]
  },
  {
   "cell_type": "code",
   "execution_count": 20,
   "metadata": {},
   "outputs": [],
   "source": [
    "\n",
    "net_of = NN(input_size, by_loss[0],output_size)\n",
    "criterion = torch.nn.BCEWithLogitsLoss(pos_weight=torch.tensor([pos_weight]))\n",
    "optimizer = torch.optim.Adam(net_of.parameters(),lr=1e-1)\n",
    "\n",
    "train_losses = []\n",
    "val_losses = []\n",
    "for sample_size in range(10,1001,10):\n",
    "    train_loss,val_loss = trainNN(net_of,\n",
    "            data_tens[:sample_size,:],\n",
    "            labels_tens[:sample_size,:],\n",
    "            optimizer,\n",
    "            criterion,\n",
    "            sample_size,\n",
    "            200,\n",
    "            val_data_tens,\n",
    "            val_labels_tens,\n",
    "            validate=True)\n",
    "    train_losses.append(train_loss/sample_size)\n",
    "    val_losses.append(val_loss/200)"
   ]
  },
  {
   "cell_type": "code",
   "execution_count": 21,
   "metadata": {},
   "outputs": [
    {
     "data": {
      "image/png": "[encoded data removed]",
      "text/plain": [
       "<Figure size 1000x800 with 1 Axes>"
      ]
     },
     "metadata": {},
     "output_type": "display_data"
    }
   ],
   "source": [
    "idx = list(range(10,1001,10))\n",
    "plt.figure(figsize=(10,8))\n",
    "plt.plot(idx,train_losses,label='Train Error')\n",
    "plt.plot(idx, val_losses,label='Test Error')\n",
    "plt.title(\"Train Error VS Test Error as a function of N\")\n",
    "plt.xlabel(\"$N = 10,20,30,\\ldots,1,000$\")\n",
    "plt.ylabel(\"Error\")\n",
    "plt.legend()\n",
    "plt.show()"
   ]
  }
 ],
 "metadata": {
  "kernelspec": {
   "display_name": "modelim",
   "language": "python",
   "name": "python3"
  },
  "language_info": {
   "codemirror_mode": {
    "name": "ipython",
    "version": 3
   },
   "file_extension": ".py",
   "mimetype": "text/x-python",
   "name": "python",
   "nbconvert_exporter": "python",
   "pygments_lexer": "ipython3",
   "version": "3.8.19"
  }
 },
 "nbformat": 4,
 "nbformat_minor": 2
}
