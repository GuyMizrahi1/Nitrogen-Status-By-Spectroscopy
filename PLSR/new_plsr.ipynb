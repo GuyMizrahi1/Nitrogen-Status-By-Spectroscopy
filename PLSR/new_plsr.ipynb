{
 "cells": [
  {
   "cell_type": "code",
   "execution_count": 1,
   "metadata": {},
   "outputs": [],
   "source": [
    "from PLSR_class import PLSRModel\n",
    "import sys\n",
    "sys.path.append('../baseline_for_training')\n",
    "from Dataset import Dataset\n",
    "import seaborn as sns\n",
    "import pandas as pd"
   ]
  },
  {
   "cell_type": "code",
   "execution_count": 2,
   "metadata": {},
   "outputs": [],
   "source": [
    "train_file_name = 'train_data.parquet'\n",
    "validation_file_name = 'validation_data.parquet'\n",
    "test_file_name = 'test_data.parquet'\n",
    "\n",
    "\n",
    "dataset = Dataset(train_file_name,validation_file_name,test_file_name)"
   ]
  },
  {
   "cell_type": "code",
   "execution_count": 3,
   "metadata": {},
   "outputs": [],
   "source": [
    "is_multi_output = True\n",
    "PLSR_Tuning = True\n",
    "param_grid = {'n_components': [i for i in range(1,10)]}\n",
    "multi_PLSR = PLSRModel(dataset, param_grid, is_multi_output)"
   ]
  },
  {
   "cell_type": "markdown",
   "metadata": {},
   "source": [
    "# Tuning Number of Components"
   ]
  },
  {
   "cell_type": "code",
   "execution_count": 4,
   "metadata": {},
   "outputs": [
    {
     "name": "stderr",
     "output_type": "stream",
     "text": [
      "Optimizing Number of Components: 100%|██████████| 9/9 [00:01<00:00,  4.64it/s]\n"
     ]
    }
   ],
   "source": [
    "from Training_and_Tuning import hyperParameterTuning\n",
    "\n",
    "rmses = hyperParameterTuning(multi_PLSR,PLSR_Tuning = PLSR_Tuning)"
   ]
  },
  {
   "cell_type": "code",
   "execution_count": 5,
   "metadata": {},
   "outputs": [
    {
     "name": "stdout",
     "output_type": "stream",
     "text": [
      "Best n_components: 9\n"
     ]
    }
   ],
   "source": [
    "best_n_components = sorted(rmses['Avg_RMSE'], key = lambda x:x[1])[0][0]['n_components']\n",
    "print('Best n_components:', best_n_components)"
   ]
  },
  {
   "cell_type": "markdown",
   "metadata": {},
   "source": [
    "# Training with CV10"
   ]
  },
  {
   "cell_type": "code",
   "execution_count": 6,
   "metadata": {},
   "outputs": [
    {
     "name": "stderr",
     "output_type": "stream",
     "text": [
      "Cross Validation: 100%|██████████| 10/10 [00:03<00:00,  3.11it/s]\n"
     ]
    }
   ],
   "source": [
    "from Training_and_Tuning import CV10\n",
    "\n",
    "multi_PLSR.model.estimator.set_params(n_components = best_n_components)\n",
    "\n",
    "rmses = CV10(multi_PLSR)"
   ]
  }
 ],
 "metadata": {
  "kernelspec": {
   "display_name": "boazml",
   "language": "python",
   "name": "python3"
  },
  "language_info": {
   "codemirror_mode": {
    "name": "ipython",
    "version": 3
   },
   "file_extension": ".py",
   "mimetype": "text/x-python",
   "name": "python",
   "nbconvert_exporter": "python",
   "pygments_lexer": "ipython3",
   "version": "3.10.16"
  }
 },
 "nbformat": 4,
 "nbformat_minor": 2
}
