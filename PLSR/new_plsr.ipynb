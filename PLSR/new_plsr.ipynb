{
 "cells": [
  {
   "cell_type": "code",
   "execution_count": 7,
   "metadata": {},
   "outputs": [],
   "source": [
    "from PLSR_class import PLSRModel\n",
    "import sys\n",
    "sys.path.append('../baseline_for_training')\n",
    "from Dataset import Dataset\n",
    "import seaborn as sns\n",
    "import pandas as pd"
   ]
  },
  {
   "cell_type": "code",
   "execution_count": 8,
   "metadata": {},
   "outputs": [],
   "source": [
    "train_file_name = 'train_data.parquet'\n",
    "validation_file_name = 'validation_data.parquet'\n",
    "test_file_name = 'test_data.parquet'\n",
    "\n",
    "\n",
    "dataset = Dataset(train_file_name,validation_file_name,test_file_name)\n"
   ]
  },
  {
   "cell_type": "code",
   "execution_count": 9,
   "metadata": {},
   "outputs": [],
   "source": [
    "is_multi_output = True\n",
    "PLSR_Tuning = True\n",
    "param_grid = {'n_components': [i for i in range(1,10)]}\n",
    "multi_PLSR = PLSRModel(dataset, param_grid, is_multi_output)\n",
    "single_PLSR = PLSRModel(dataset, param_grid, not is_multi_output, \"N_Value\")"
   ]
  },
  {
   "cell_type": "markdown",
   "metadata": {},
   "source": [
    "# Tuning Number of Components"
   ]
  },
  {
   "cell_type": "code",
   "execution_count": 11,
   "metadata": {},
   "outputs": [
    {
     "name": "stderr",
     "output_type": "stream",
     "text": [
      "Optimizing Number of Components: 100%|██████████| 9/9 [00:02<00:00,  4.44it/s]\n"
     ]
    }
   ],
   "source": [
    "from Training_and_Tuning import hyperParameterTuning\n",
    "\n",
    "rmses = hyperParameterTuning(multi_PLSR,PLSR_Tuning = PLSR_Tuning)"
   ]
  },
  {
   "cell_type": "code",
   "execution_count": 12,
   "metadata": {},
   "outputs": [
    {
     "data": {
      "text/plain": [
       "{'N_Value': [np.float64(0.47158611168793935),\n",
       "  np.float64(0.4591919742329582),\n",
       "  np.float64(0.3933116173519386),\n",
       "  np.float64(0.32298250894715025),\n",
       "  np.float64(0.30687633853229956),\n",
       "  np.float64(0.28207101569704685),\n",
       "  np.float64(0.20432147438770965),\n",
       "  np.float64(0.1974107197990201),\n",
       "  np.float64(0.18333143473633337)],\n",
       " 'SC_Value': [np.float64(11.781345607541098),\n",
       "  np.float64(9.699346708521414),\n",
       "  np.float64(5.868179395888875),\n",
       "  np.float64(4.263124209623271),\n",
       "  np.float64(3.6107251699361873),\n",
       "  np.float64(3.097371367870159),\n",
       "  np.float64(3.0466958717535566),\n",
       "  np.float64(2.670162432660288),\n",
       "  np.float64(2.734118268100288)],\n",
       " 'ST_Value': [np.float64(50.10546561107106),\n",
       "  np.float64(45.234164055644534),\n",
       "  np.float64(34.25139738739402),\n",
       "  np.float64(24.114697938228574),\n",
       "  np.float64(20.915324044303873),\n",
       "  np.float64(19.505548520025176),\n",
       "  np.float64(17.967997178697345),\n",
       "  np.float64(17.31151708904473),\n",
       "  np.float64(17.12653480090013)],\n",
       " 'Avg_RMSE': [({'copy': True,\n",
       "    'max_iter': 500,\n",
       "    'n_components': 1,\n",
       "    'scale': True,\n",
       "    'tol': 1e-06},\n",
       "   np.float64(20.786132443433367)),\n",
       "  ({'copy': True,\n",
       "    'max_iter': 500,\n",
       "    'n_components': 2,\n",
       "    'scale': True,\n",
       "    'tol': 1e-06},\n",
       "   np.float64(18.46423424613297)),\n",
       "  ({'copy': True,\n",
       "    'max_iter': 500,\n",
       "    'n_components': 3,\n",
       "    'scale': True,\n",
       "    'tol': 1e-06},\n",
       "   np.float64(13.504296133544946)),\n",
       "  ({'copy': True,\n",
       "    'max_iter': 500,\n",
       "    'n_components': 4,\n",
       "    'scale': True,\n",
       "    'tol': 1e-06},\n",
       "   np.float64(9.566934885599665)),\n",
       "  ({'copy': True,\n",
       "    'max_iter': 500,\n",
       "    'n_components': 5,\n",
       "    'scale': True,\n",
       "    'tol': 1e-06},\n",
       "   np.float64(8.27764185092412)),\n",
       "  ({'copy': True,\n",
       "    'max_iter': 500,\n",
       "    'n_components': 6,\n",
       "    'scale': True,\n",
       "    'tol': 1e-06},\n",
       "   np.float64(7.628330301197461)),\n",
       "  ({'copy': True,\n",
       "    'max_iter': 500,\n",
       "    'n_components': 7,\n",
       "    'scale': True,\n",
       "    'tol': 1e-06},\n",
       "   np.float64(7.073004841612871)),\n",
       "  ({'copy': True,\n",
       "    'max_iter': 500,\n",
       "    'n_components': 8,\n",
       "    'scale': True,\n",
       "    'tol': 1e-06},\n",
       "   np.float64(6.7263634138346795)),\n",
       "  ({'copy': True,\n",
       "    'max_iter': 500,\n",
       "    'n_components': 9,\n",
       "    'scale': True,\n",
       "    'tol': 1e-06},\n",
       "   np.float64(6.681328167912251))]}"
      ]
     },
     "execution_count": 12,
     "metadata": {},
     "output_type": "execute_result"
    }
   ],
   "source": [
    "rmses"
   ]
  },
  {
   "cell_type": "code",
   "execution_count": 13,
   "metadata": {},
   "outputs": [
    {
     "name": "stderr",
     "output_type": "stream",
     "text": [
      "Optimizing Number of Components: 100%|██████████| 9/9 [00:00<00:00, 12.44it/s]\n"
     ]
    }
   ],
   "source": [
    "rmses_single = hyperParameterTuning(single_PLSR,PLSR_Tuning = PLSR_Tuning)"
   ]
  },
  {
   "cell_type": "code",
   "execution_count": 14,
   "metadata": {},
   "outputs": [
    {
     "data": {
      "text/plain": [
       "{'N_Value': [({'copy': True,\n",
       "    'max_iter': 500,\n",
       "    'n_components': 1,\n",
       "    'scale': True,\n",
       "    'tol': 1e-06},\n",
       "   np.float64(0.47158611168793935)),\n",
       "  ({'copy': True,\n",
       "    'max_iter': 500,\n",
       "    'n_components': 2,\n",
       "    'scale': True,\n",
       "    'tol': 1e-06},\n",
       "   np.float64(0.4591919742329582)),\n",
       "  ({'copy': True,\n",
       "    'max_iter': 500,\n",
       "    'n_components': 3,\n",
       "    'scale': True,\n",
       "    'tol': 1e-06},\n",
       "   np.float64(0.3933116173519386)),\n",
       "  ({'copy': True,\n",
       "    'max_iter': 500,\n",
       "    'n_components': 4,\n",
       "    'scale': True,\n",
       "    'tol': 1e-06},\n",
       "   np.float64(0.32298250894715025)),\n",
       "  ({'copy': True,\n",
       "    'max_iter': 500,\n",
       "    'n_components': 5,\n",
       "    'scale': True,\n",
       "    'tol': 1e-06},\n",
       "   np.float64(0.30687633853229956)),\n",
       "  ({'copy': True,\n",
       "    'max_iter': 500,\n",
       "    'n_components': 6,\n",
       "    'scale': True,\n",
       "    'tol': 1e-06},\n",
       "   np.float64(0.28207101569704685)),\n",
       "  ({'copy': True,\n",
       "    'max_iter': 500,\n",
       "    'n_components': 7,\n",
       "    'scale': True,\n",
       "    'tol': 1e-06},\n",
       "   np.float64(0.20432147438770965)),\n",
       "  ({'copy': True,\n",
       "    'max_iter': 500,\n",
       "    'n_components': 8,\n",
       "    'scale': True,\n",
       "    'tol': 1e-06},\n",
       "   np.float64(0.1974107197990201)),\n",
       "  ({'copy': True,\n",
       "    'max_iter': 500,\n",
       "    'n_components': 9,\n",
       "    'scale': True,\n",
       "    'tol': 1e-06},\n",
       "   np.float64(0.18333143473633337))]}"
      ]
     },
     "execution_count": 14,
     "metadata": {},
     "output_type": "execute_result"
    }
   ],
   "source": [
    "rmses_single"
   ]
  },
  {
   "cell_type": "code",
   "execution_count": 15,
   "metadata": {},
   "outputs": [
    {
     "name": "stdout",
     "output_type": "stream",
     "text": [
      "Best n_components: 9\n"
     ]
    }
   ],
   "source": [
    "best_n_components = sorted(rmses['Avg_RMSE'], key = lambda x:x[1])[0][0]['n_components']\n",
    "print('Best n_components:', best_n_components)"
   ]
  },
  {
   "cell_type": "markdown",
   "metadata": {},
   "source": [
    "# Training with CV10"
   ]
  },
  {
   "cell_type": "code",
   "execution_count": 16,
   "metadata": {},
   "outputs": [
    {
     "name": "stderr",
     "output_type": "stream",
     "text": [
      "Cross Validation: 100%|██████████| 10/10 [00:03<00:00,  3.03it/s]\n"
     ]
    }
   ],
   "source": [
    "from Training_and_Tuning import CV10\n",
    "\n",
    "multi_PLSR.model.estimator.set_params(n_components = best_n_components)\n",
    "\n",
    "rmses = CV10(multi_PLSR)"
   ]
  },
  {
   "cell_type": "code",
   "execution_count": 17,
   "metadata": {},
   "outputs": [
    {
     "data": {
      "text/plain": [
       "{'N_Value': [np.float64(0.0818098928809392),\n",
       "  np.float64(0.08492315726309778),\n",
       "  np.float64(0.1408111177778225),\n",
       "  np.float64(0.08403872472046955),\n",
       "  np.float64(0.08536884589278114),\n",
       "  np.float64(0.08590865882650421),\n",
       "  np.float64(0.10590480890432503),\n",
       "  np.float64(0.07517450464698852),\n",
       "  np.float64(0.08230499825109273),\n",
       "  np.float64(0.0857496787423151)],\n",
       " 'SC_Value': [np.float64(1.159493733616769),\n",
       "  np.float64(1.375695402021692),\n",
       "  np.float64(1.3976621080250076),\n",
       "  np.float64(1.497566813958115),\n",
       "  np.float64(1.4391263428344534),\n",
       "  np.float64(4.529407505828343),\n",
       "  np.float64(2.836459210009218),\n",
       "  np.float64(0.9423900980699347),\n",
       "  np.float64(1.2209481048741393),\n",
       "  np.float64(1.5142201468725591)],\n",
       " 'ST_Value': [np.float64(16.31511578065901),\n",
       "  np.float64(13.715169914432146),\n",
       "  np.float64(13.628325704332648),\n",
       "  np.float64(16.391793986989693),\n",
       "  np.float64(11.143169400461812),\n",
       "  np.float64(17.686022812183438),\n",
       "  np.float64(16.57507963651486),\n",
       "  np.float64(16.24859334745074),\n",
       "  np.float64(14.073475547081655),\n",
       "  np.float64(14.478656492516942)],\n",
       " 'Avg_RMSE': [np.float64(5.852139802385572),\n",
       "  np.float64(5.058596157905645),\n",
       "  np.float64(5.055599643378493),\n",
       "  np.float64(5.9911331752227595),\n",
       "  np.float64(4.222554863063015),\n",
       "  np.float64(7.4337796589460945),\n",
       "  np.float64(6.505814551809468),\n",
       "  np.float64(5.755385983389221),\n",
       "  np.float64(5.125576216735629),\n",
       "  np.float64(5.359542106043939)]}"
      ]
     },
     "execution_count": 17,
     "metadata": {},
     "output_type": "execute_result"
    }
   ],
   "source": [
    "rmses"
   ]
  },
  {
   "cell_type": "code",
   "execution_count": 18,
   "metadata": {},
   "outputs": [
    {
     "name": "stderr",
     "output_type": "stream",
     "text": [
      "Cross Validation: 100%|██████████| 10/10 [00:01<00:00,  8.66it/s]\n"
     ]
    }
   ],
   "source": [
    "single_PLSR.model.set_params(n_components = best_n_components)\n",
    "\n",
    "rmses_single = CV10(single_PLSR)"
   ]
  },
  {
   "cell_type": "code",
   "execution_count": 19,
   "metadata": {},
   "outputs": [
    {
     "data": {
      "text/plain": [
       "{'N_Value': [np.float64(0.0818098928809392),\n",
       "  np.float64(0.08492315726309778),\n",
       "  np.float64(0.1408111177778225),\n",
       "  np.float64(0.08403872472046955),\n",
       "  np.float64(0.08536884589278114),\n",
       "  np.float64(0.08590865882650421),\n",
       "  np.float64(0.10590480890432503),\n",
       "  np.float64(0.07517450464698852),\n",
       "  np.float64(0.08230499825109273),\n",
       "  np.float64(0.0857496787423151)]}"
      ]
     },
     "execution_count": 19,
     "metadata": {},
     "output_type": "execute_result"
    }
   ],
   "source": [
    "rmses_single"
   ]
  }
 ],
 "metadata": {
  "kernelspec": {
   "display_name": "boazml",
   "language": "python",
   "name": "python3"
  },
  "language_info": {
   "codemirror_mode": {
    "name": "ipython",
    "version": 3
   },
   "file_extension": ".py",
   "mimetype": "text/x-python",
   "name": "python",
   "nbconvert_exporter": "python",
   "pygments_lexer": "ipython3",
   "version": "3.10.16"
  }
 },
 "nbformat": 4,
 "nbformat_minor": 2
}
